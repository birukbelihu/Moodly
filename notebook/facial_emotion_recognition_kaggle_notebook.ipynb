{
 "metadata": {
  "kernelspec": {
   "language": "python",
   "display_name": "Python 3",
   "name": "python3"
  },
  "language_info": {
   "name": "python",
   "version": "3.11.11",
   "mimetype": "text/x-python",
   "codemirror_mode": {
    "name": "ipython",
    "version": 3
   },
   "pygments_lexer": "ipython3",
   "nbconvert_exporter": "python",
   "file_extension": ".py"
  },
  "kaggle": {
   "accelerator": "nvidiaTeslaT4",
   "dataSources": [
    {
     "sourceId": 234911,
     "sourceType": "datasetVersion",
     "datasetId": 99505
    },
    {
     "sourceId": 1351797,
     "sourceType": "datasetVersion",
     "datasetId": 786787
    }
   ],
   "dockerImageVersionId": 31041,
   "isInternetEnabled": true,
   "language": "python",
   "sourceType": "notebook",
   "isGpuEnabled": true
  }
 },
 "nbformat_minor": 4,
 "nbformat": 4,
 "cells": [
  {
   "metadata": {},
   "cell_type": "markdown",
   "source": "# Check Training & Validation Set"
  },
  {
   "cell_type": "code",
   "source": "import os\n\ntraining_data_path = \"/kaggle/input/face-expression-recognition-dataset/images/train\"\nvalidation_data_path = \"/kaggle/input/face-expression-recognition-dataset/images/validation\"\n\nprint(f\" Training Subfolders: {os.listdir(training_data_path)}\")\nprint(f\" Validation Subfolders: {os.listdir(validation_data_path)}\")",
   "metadata": {
    "_uuid": "8f2839f25d086af736a60e9eeb907d3b93b6e0e5",
    "_cell_guid": "b1076dfc-b9ad-4769-8c92-a6c4dae69d19",
    "trusted": true,
    "execution": {
     "iopub.status.busy": "2025-06-25T17:53:21.422397Z",
     "iopub.execute_input": "2025-06-25T17:53:21.422890Z",
     "iopub.status.idle": "2025-06-25T17:53:21.427978Z",
     "shell.execute_reply.started": "2025-06-25T17:53:21.422867Z",
     "shell.execute_reply": "2025-06-25T17:53:21.427226Z"
    }
   },
   "outputs": [
    {
     "name": "stdout",
     "text": " Training Subfolders: ['surprise', 'fear', 'angry', 'neutral', 'sad', 'disgust', 'happy']\n Validation Subfolders: ['surprise', 'fear', 'angry', 'neutral', 'sad', 'disgust', 'happy']\n",
     "output_type": "stream"
    }
   ],
   "execution_count": 40
  },
  {
   "metadata": {},
   "cell_type": "markdown",
   "source": "# Split The Dataset Into Training & Validation"
  },
  {
   "cell_type": "code",
   "source": "from tensorflow.keras.preprocessing.image import ImageDataGenerator\n\nIMAGE_SIZE = (48, 48)\nBATCH_SIZE = 64\n\ntraining_data_generator = ImageDataGenerator(\n    rescale=1./255,\n    rotation_range=30,\n    shear_range=0.3,\n    zoom_range=0.3,\n    horizontal_flip=True,\n    fill_mode=\"nearest\"\n)\n\nvalidation_data_generator = ImageDataGenerator(rescale=1./255)\n\ntraining_generator = training_data_generator.flow_from_directory(\n   training_data_path,\n   color_mode=\"grayscale\",\n   target_size=IMAGE_SIZE,\n   batch_size=BATCH_SIZE,\n   class_mode=\"categorical\",\n   shuffle=True\n)\n\nvalidation_generator = validation_data_generator.flow_from_directory(\n   validation_data_path,\n   color_mode=\"grayscale\",\n   target_size=IMAGE_SIZE,\n   batch_size=BATCH_SIZE,\n   class_mode=\"categorical\",\n   shuffle=True\n)",
   "metadata": {
    "trusted": true,
    "execution": {
     "iopub.status.busy": "2025-06-25T17:53:41.873446Z",
     "iopub.execute_input": "2025-06-25T17:53:41.873955Z",
     "iopub.status.idle": "2025-06-25T17:54:00.956743Z",
     "shell.execute_reply.started": "2025-06-25T17:53:41.873920Z",
     "shell.execute_reply": "2025-06-25T17:54:00.955915Z"
    }
   },
   "outputs": [
    {
     "name": "stdout",
     "text": "Found 28821 images belonging to 7 classes.\nFound 7066 images belonging to 7 classes.\n",
     "output_type": "stream"
    }
   ],
   "execution_count": 41
  },
  {
   "metadata": {},
   "cell_type": "markdown",
   "source": "# Print The Class Indices(angry, disgust, fear, happy etc.) Which We Need Later For Inferencing"
  },
  {
   "cell_type": "code",
   "source": "print(training_generator.class_indices)",
   "metadata": {
    "trusted": true,
    "execution": {
     "iopub.status.busy": "2025-06-25T17:54:30.709186Z",
     "iopub.execute_input": "2025-06-25T17:54:30.709723Z",
     "iopub.status.idle": "2025-06-25T17:54:30.713722Z",
     "shell.execute_reply.started": "2025-06-25T17:54:30.709702Z",
     "shell.execute_reply": "2025-06-25T17:54:30.712971Z"
    }
   },
   "outputs": [
    {
     "name": "stdout",
     "text": "{'angry': 0, 'disgust': 1, 'fear': 2, 'happy': 3, 'neutral': 4, 'sad': 5, 'surprise': 6}\n",
     "output_type": "stream"
    }
   ],
   "execution_count": 42
  },
  {
   "metadata": {},
   "cell_type": "markdown",
   "source": "# Create The Facial Emotion Recognition CNN (Convolutional Neural Network)"
  },
  {
   "cell_type": "code",
   "source": "from keras.layers import Conv2D, MaxPooling2D\nfrom tensorflow.keras.models import Sequential\nfrom keras.layers import Dropout, Flatten, Dense\nfrom tensorflow.keras.optimizers import Adam\n\nEMOTIONS_COUNT = 7\n\nmodel = Sequential()\n\nmodel.add(Conv2D(32, kernel_size=(3,3), activation=\"relu\", input_shape=(48, 48, 1)))\n\nmodel.add(Conv2D(64, kernel_size=(3,3), activation=\"relu\"))\nmodel.add(MaxPooling2D(pool_size=(2,2)))\nmodel.add(Dropout(0.1))\n\nmodel.add(Conv2D(128, kernel_size=(3,3), activation=\"relu\"))\nmodel.add(MaxPooling2D(pool_size=(2,2)))\nmodel.add(Dropout(0.1))\n\nmodel.add(Conv2D(256, kernel_size=(3,3), activation=\"relu\"))\nmodel.add(MaxPooling2D(pool_size=(2,2)))\nmodel.add(Dropout(0.1))\n\nmodel.add(Flatten())\nmodel.add(Dense(512, activation=\"relu\"))\nmodel.add(Dropout(0.2))\n\nmodel.add(Dense(EMOTIONS_COUNT, activation=\"softmax\"))\n\nmodel.compile(optimizer=Adam(), loss=\"categorical_crossentropy\", metrics=[\"accuracy\"])\nmodel.summary()",
   "metadata": {
    "trusted": true,
    "execution": {
     "iopub.status.busy": "2025-06-25T17:54:36.500618Z",
     "iopub.execute_input": "2025-06-25T17:54:36.500838Z",
     "iopub.status.idle": "2025-06-25T17:54:36.625069Z",
     "shell.execute_reply.started": "2025-06-25T17:54:36.500821Z",
     "shell.execute_reply": "2025-06-25T17:54:36.624531Z"
    }
   },
   "outputs": [
    {
     "output_type": "display_data",
     "data": {
      "text/plain": "\u001B[1mModel: \"sequential_9\"\u001B[0m\n",
      "text/html": "<pre style=\"white-space:pre;overflow-x:auto;line-height:normal;font-family:Menlo,'DejaVu Sans Mono',consolas,'Courier New',monospace\"><span style=\"font-weight: bold\">Model: \"sequential_9\"</span>\n</pre>\n"
     },
     "metadata": {}
    },
    {
     "output_type": "display_data",
     "data": {
      "text/plain": "┏━━━━━━━━━━━━━━━━━━━━━━━━━━━━━━━━━━━━━━┳━━━━━━━━━━━━━━━━━━━━━━━━━━━━━┳━━━━━━━━━━━━━━━━━┓\n┃\u001B[1m \u001B[0m\u001B[1mLayer (type)                        \u001B[0m\u001B[1m \u001B[0m┃\u001B[1m \u001B[0m\u001B[1mOutput Shape               \u001B[0m\u001B[1m \u001B[0m┃\u001B[1m \u001B[0m\u001B[1m        Param #\u001B[0m\u001B[1m \u001B[0m┃\n┡━━━━━━━━━━━━━━━━━━━━━━━━━━━━━━━━━━━━━━╇━━━━━━━━━━━━━━━━━━━━━━━━━━━━━╇━━━━━━━━━━━━━━━━━┩\n│ conv2d_23 (\u001B[38;5;33mConv2D\u001B[0m)                   │ (\u001B[38;5;45mNone\u001B[0m, \u001B[38;5;34m46\u001B[0m, \u001B[38;5;34m46\u001B[0m, \u001B[38;5;34m32\u001B[0m)          │             \u001B[38;5;34m320\u001B[0m │\n├──────────────────────────────────────┼─────────────────────────────┼─────────────────┤\n│ conv2d_24 (\u001B[38;5;33mConv2D\u001B[0m)                   │ (\u001B[38;5;45mNone\u001B[0m, \u001B[38;5;34m44\u001B[0m, \u001B[38;5;34m44\u001B[0m, \u001B[38;5;34m64\u001B[0m)          │          \u001B[38;5;34m18,496\u001B[0m │\n├──────────────────────────────────────┼─────────────────────────────┼─────────────────┤\n│ max_pooling2d_13 (\u001B[38;5;33mMaxPooling2D\u001B[0m)      │ (\u001B[38;5;45mNone\u001B[0m, \u001B[38;5;34m22\u001B[0m, \u001B[38;5;34m22\u001B[0m, \u001B[38;5;34m64\u001B[0m)          │               \u001B[38;5;34m0\u001B[0m │\n├──────────────────────────────────────┼─────────────────────────────┼─────────────────┤\n│ dropout_16 (\u001B[38;5;33mDropout\u001B[0m)                 │ (\u001B[38;5;45mNone\u001B[0m, \u001B[38;5;34m22\u001B[0m, \u001B[38;5;34m22\u001B[0m, \u001B[38;5;34m64\u001B[0m)          │               \u001B[38;5;34m0\u001B[0m │\n├──────────────────────────────────────┼─────────────────────────────┼─────────────────┤\n│ conv2d_25 (\u001B[38;5;33mConv2D\u001B[0m)                   │ (\u001B[38;5;45mNone\u001B[0m, \u001B[38;5;34m20\u001B[0m, \u001B[38;5;34m20\u001B[0m, \u001B[38;5;34m128\u001B[0m)         │          \u001B[38;5;34m73,856\u001B[0m │\n├──────────────────────────────────────┼─────────────────────────────┼─────────────────┤\n│ max_pooling2d_14 (\u001B[38;5;33mMaxPooling2D\u001B[0m)      │ (\u001B[38;5;45mNone\u001B[0m, \u001B[38;5;34m10\u001B[0m, \u001B[38;5;34m10\u001B[0m, \u001B[38;5;34m128\u001B[0m)         │               \u001B[38;5;34m0\u001B[0m │\n├──────────────────────────────────────┼─────────────────────────────┼─────────────────┤\n│ dropout_17 (\u001B[38;5;33mDropout\u001B[0m)                 │ (\u001B[38;5;45mNone\u001B[0m, \u001B[38;5;34m10\u001B[0m, \u001B[38;5;34m10\u001B[0m, \u001B[38;5;34m128\u001B[0m)         │               \u001B[38;5;34m0\u001B[0m │\n├──────────────────────────────────────┼─────────────────────────────┼─────────────────┤\n│ conv2d_26 (\u001B[38;5;33mConv2D\u001B[0m)                   │ (\u001B[38;5;45mNone\u001B[0m, \u001B[38;5;34m8\u001B[0m, \u001B[38;5;34m8\u001B[0m, \u001B[38;5;34m256\u001B[0m)           │         \u001B[38;5;34m295,168\u001B[0m │\n├──────────────────────────────────────┼─────────────────────────────┼─────────────────┤\n│ max_pooling2d_15 (\u001B[38;5;33mMaxPooling2D\u001B[0m)      │ (\u001B[38;5;45mNone\u001B[0m, \u001B[38;5;34m4\u001B[0m, \u001B[38;5;34m4\u001B[0m, \u001B[38;5;34m256\u001B[0m)           │               \u001B[38;5;34m0\u001B[0m │\n├──────────────────────────────────────┼─────────────────────────────┼─────────────────┤\n│ dropout_18 (\u001B[38;5;33mDropout\u001B[0m)                 │ (\u001B[38;5;45mNone\u001B[0m, \u001B[38;5;34m4\u001B[0m, \u001B[38;5;34m4\u001B[0m, \u001B[38;5;34m256\u001B[0m)           │               \u001B[38;5;34m0\u001B[0m │\n├──────────────────────────────────────┼─────────────────────────────┼─────────────────┤\n│ flatten_4 (\u001B[38;5;33mFlatten\u001B[0m)                  │ (\u001B[38;5;45mNone\u001B[0m, \u001B[38;5;34m4096\u001B[0m)                │               \u001B[38;5;34m0\u001B[0m │\n├──────────────────────────────────────┼─────────────────────────────┼─────────────────┤\n│ dense_5 (\u001B[38;5;33mDense\u001B[0m)                      │ (\u001B[38;5;45mNone\u001B[0m, \u001B[38;5;34m512\u001B[0m)                 │       \u001B[38;5;34m2,097,664\u001B[0m │\n├──────────────────────────────────────┼─────────────────────────────┼─────────────────┤\n│ dropout_19 (\u001B[38;5;33mDropout\u001B[0m)                 │ (\u001B[38;5;45mNone\u001B[0m, \u001B[38;5;34m512\u001B[0m)                 │               \u001B[38;5;34m0\u001B[0m │\n├──────────────────────────────────────┼─────────────────────────────┼─────────────────┤\n│ dense_6 (\u001B[38;5;33mDense\u001B[0m)                      │ (\u001B[38;5;45mNone\u001B[0m, \u001B[38;5;34m7\u001B[0m)                   │           \u001B[38;5;34m3,591\u001B[0m │\n└──────────────────────────────────────┴─────────────────────────────┴─────────────────┘\n",
      "text/html": "<pre style=\"white-space:pre;overflow-x:auto;line-height:normal;font-family:Menlo,'DejaVu Sans Mono',consolas,'Courier New',monospace\">┏━━━━━━━━━━━━━━━━━━━━━━━━━━━━━━━━━━━━━━┳━━━━━━━━━━━━━━━━━━━━━━━━━━━━━┳━━━━━━━━━━━━━━━━━┓\n┃<span style=\"font-weight: bold\"> Layer (type)                         </span>┃<span style=\"font-weight: bold\"> Output Shape                </span>┃<span style=\"font-weight: bold\">         Param # </span>┃\n┡━━━━━━━━━━━━━━━━━━━━━━━━━━━━━━━━━━━━━━╇━━━━━━━━━━━━━━━━━━━━━━━━━━━━━╇━━━━━━━━━━━━━━━━━┩\n│ conv2d_23 (<span style=\"color: #0087ff; text-decoration-color: #0087ff\">Conv2D</span>)                   │ (<span style=\"color: #00d7ff; text-decoration-color: #00d7ff\">None</span>, <span style=\"color: #00af00; text-decoration-color: #00af00\">46</span>, <span style=\"color: #00af00; text-decoration-color: #00af00\">46</span>, <span style=\"color: #00af00; text-decoration-color: #00af00\">32</span>)          │             <span style=\"color: #00af00; text-decoration-color: #00af00\">320</span> │\n├──────────────────────────────────────┼─────────────────────────────┼─────────────────┤\n│ conv2d_24 (<span style=\"color: #0087ff; text-decoration-color: #0087ff\">Conv2D</span>)                   │ (<span style=\"color: #00d7ff; text-decoration-color: #00d7ff\">None</span>, <span style=\"color: #00af00; text-decoration-color: #00af00\">44</span>, <span style=\"color: #00af00; text-decoration-color: #00af00\">44</span>, <span style=\"color: #00af00; text-decoration-color: #00af00\">64</span>)          │          <span style=\"color: #00af00; text-decoration-color: #00af00\">18,496</span> │\n├──────────────────────────────────────┼─────────────────────────────┼─────────────────┤\n│ max_pooling2d_13 (<span style=\"color: #0087ff; text-decoration-color: #0087ff\">MaxPooling2D</span>)      │ (<span style=\"color: #00d7ff; text-decoration-color: #00d7ff\">None</span>, <span style=\"color: #00af00; text-decoration-color: #00af00\">22</span>, <span style=\"color: #00af00; text-decoration-color: #00af00\">22</span>, <span style=\"color: #00af00; text-decoration-color: #00af00\">64</span>)          │               <span style=\"color: #00af00; text-decoration-color: #00af00\">0</span> │\n├──────────────────────────────────────┼─────────────────────────────┼─────────────────┤\n│ dropout_16 (<span style=\"color: #0087ff; text-decoration-color: #0087ff\">Dropout</span>)                 │ (<span style=\"color: #00d7ff; text-decoration-color: #00d7ff\">None</span>, <span style=\"color: #00af00; text-decoration-color: #00af00\">22</span>, <span style=\"color: #00af00; text-decoration-color: #00af00\">22</span>, <span style=\"color: #00af00; text-decoration-color: #00af00\">64</span>)          │               <span style=\"color: #00af00; text-decoration-color: #00af00\">0</span> │\n├──────────────────────────────────────┼─────────────────────────────┼─────────────────┤\n│ conv2d_25 (<span style=\"color: #0087ff; text-decoration-color: #0087ff\">Conv2D</span>)                   │ (<span style=\"color: #00d7ff; text-decoration-color: #00d7ff\">None</span>, <span style=\"color: #00af00; text-decoration-color: #00af00\">20</span>, <span style=\"color: #00af00; text-decoration-color: #00af00\">20</span>, <span style=\"color: #00af00; text-decoration-color: #00af00\">128</span>)         │          <span style=\"color: #00af00; text-decoration-color: #00af00\">73,856</span> │\n├──────────────────────────────────────┼─────────────────────────────┼─────────────────┤\n│ max_pooling2d_14 (<span style=\"color: #0087ff; text-decoration-color: #0087ff\">MaxPooling2D</span>)      │ (<span style=\"color: #00d7ff; text-decoration-color: #00d7ff\">None</span>, <span style=\"color: #00af00; text-decoration-color: #00af00\">10</span>, <span style=\"color: #00af00; text-decoration-color: #00af00\">10</span>, <span style=\"color: #00af00; text-decoration-color: #00af00\">128</span>)         │               <span style=\"color: #00af00; text-decoration-color: #00af00\">0</span> │\n├──────────────────────────────────────┼─────────────────────────────┼─────────────────┤\n│ dropout_17 (<span style=\"color: #0087ff; text-decoration-color: #0087ff\">Dropout</span>)                 │ (<span style=\"color: #00d7ff; text-decoration-color: #00d7ff\">None</span>, <span style=\"color: #00af00; text-decoration-color: #00af00\">10</span>, <span style=\"color: #00af00; text-decoration-color: #00af00\">10</span>, <span style=\"color: #00af00; text-decoration-color: #00af00\">128</span>)         │               <span style=\"color: #00af00; text-decoration-color: #00af00\">0</span> │\n├──────────────────────────────────────┼─────────────────────────────┼─────────────────┤\n│ conv2d_26 (<span style=\"color: #0087ff; text-decoration-color: #0087ff\">Conv2D</span>)                   │ (<span style=\"color: #00d7ff; text-decoration-color: #00d7ff\">None</span>, <span style=\"color: #00af00; text-decoration-color: #00af00\">8</span>, <span style=\"color: #00af00; text-decoration-color: #00af00\">8</span>, <span style=\"color: #00af00; text-decoration-color: #00af00\">256</span>)           │         <span style=\"color: #00af00; text-decoration-color: #00af00\">295,168</span> │\n├──────────────────────────────────────┼─────────────────────────────┼─────────────────┤\n│ max_pooling2d_15 (<span style=\"color: #0087ff; text-decoration-color: #0087ff\">MaxPooling2D</span>)      │ (<span style=\"color: #00d7ff; text-decoration-color: #00d7ff\">None</span>, <span style=\"color: #00af00; text-decoration-color: #00af00\">4</span>, <span style=\"color: #00af00; text-decoration-color: #00af00\">4</span>, <span style=\"color: #00af00; text-decoration-color: #00af00\">256</span>)           │               <span style=\"color: #00af00; text-decoration-color: #00af00\">0</span> │\n├──────────────────────────────────────┼─────────────────────────────┼─────────────────┤\n│ dropout_18 (<span style=\"color: #0087ff; text-decoration-color: #0087ff\">Dropout</span>)                 │ (<span style=\"color: #00d7ff; text-decoration-color: #00d7ff\">None</span>, <span style=\"color: #00af00; text-decoration-color: #00af00\">4</span>, <span style=\"color: #00af00; text-decoration-color: #00af00\">4</span>, <span style=\"color: #00af00; text-decoration-color: #00af00\">256</span>)           │               <span style=\"color: #00af00; text-decoration-color: #00af00\">0</span> │\n├──────────────────────────────────────┼─────────────────────────────┼─────────────────┤\n│ flatten_4 (<span style=\"color: #0087ff; text-decoration-color: #0087ff\">Flatten</span>)                  │ (<span style=\"color: #00d7ff; text-decoration-color: #00d7ff\">None</span>, <span style=\"color: #00af00; text-decoration-color: #00af00\">4096</span>)                │               <span style=\"color: #00af00; text-decoration-color: #00af00\">0</span> │\n├──────────────────────────────────────┼─────────────────────────────┼─────────────────┤\n│ dense_5 (<span style=\"color: #0087ff; text-decoration-color: #0087ff\">Dense</span>)                      │ (<span style=\"color: #00d7ff; text-decoration-color: #00d7ff\">None</span>, <span style=\"color: #00af00; text-decoration-color: #00af00\">512</span>)                 │       <span style=\"color: #00af00; text-decoration-color: #00af00\">2,097,664</span> │\n├──────────────────────────────────────┼─────────────────────────────┼─────────────────┤\n│ dropout_19 (<span style=\"color: #0087ff; text-decoration-color: #0087ff\">Dropout</span>)                 │ (<span style=\"color: #00d7ff; text-decoration-color: #00d7ff\">None</span>, <span style=\"color: #00af00; text-decoration-color: #00af00\">512</span>)                 │               <span style=\"color: #00af00; text-decoration-color: #00af00\">0</span> │\n├──────────────────────────────────────┼─────────────────────────────┼─────────────────┤\n│ dense_6 (<span style=\"color: #0087ff; text-decoration-color: #0087ff\">Dense</span>)                      │ (<span style=\"color: #00d7ff; text-decoration-color: #00d7ff\">None</span>, <span style=\"color: #00af00; text-decoration-color: #00af00\">7</span>)                   │           <span style=\"color: #00af00; text-decoration-color: #00af00\">3,591</span> │\n└──────────────────────────────────────┴─────────────────────────────┴─────────────────┘\n</pre>\n"
     },
     "metadata": {}
    },
    {
     "output_type": "display_data",
     "data": {
      "text/plain": "\u001B[1m Total params: \u001B[0m\u001B[38;5;34m2,489,095\u001B[0m (9.50 MB)\n",
      "text/html": "<pre style=\"white-space:pre;overflow-x:auto;line-height:normal;font-family:Menlo,'DejaVu Sans Mono',consolas,'Courier New',monospace\"><span style=\"font-weight: bold\"> Total params: </span><span style=\"color: #00af00; text-decoration-color: #00af00\">2,489,095</span> (9.50 MB)\n</pre>\n"
     },
     "metadata": {}
    },
    {
     "output_type": "display_data",
     "data": {
      "text/plain": "\u001B[1m Trainable params: \u001B[0m\u001B[38;5;34m2,489,095\u001B[0m (9.50 MB)\n",
      "text/html": "<pre style=\"white-space:pre;overflow-x:auto;line-height:normal;font-family:Menlo,'DejaVu Sans Mono',consolas,'Courier New',monospace\"><span style=\"font-weight: bold\"> Trainable params: </span><span style=\"color: #00af00; text-decoration-color: #00af00\">2,489,095</span> (9.50 MB)\n</pre>\n"
     },
     "metadata": {}
    },
    {
     "output_type": "display_data",
     "data": {
      "text/plain": "\u001B[1m Non-trainable params: \u001B[0m\u001B[38;5;34m0\u001B[0m (0.00 B)\n",
      "text/html": "<pre style=\"white-space:pre;overflow-x:auto;line-height:normal;font-family:Menlo,'DejaVu Sans Mono',consolas,'Courier New',monospace\"><span style=\"font-weight: bold\"> Non-trainable params: </span><span style=\"color: #00af00; text-decoration-color: #00af00\">0</span> (0.00 B)\n</pre>\n"
     },
     "metadata": {}
    }
   ],
   "execution_count": 44
  },
  {
   "metadata": {},
   "cell_type": "markdown",
   "source": "# Train The Facial Emotion Recognition CNN By 30 Epochs"
  },
  {
   "cell_type": "code",
   "source": "EPOCHS = 30\nhistory = model.fit(\n    training_generator,\n    validation_data=validation_generator,\n    epochs=EPOCHS\n)",
   "metadata": {
    "trusted": true,
    "execution": {
     "iopub.status.busy": "2025-06-25T17:54:48.572746Z",
     "iopub.execute_input": "2025-06-25T17:54:48.573440Z",
     "iopub.status.idle": "2025-06-25T18:17:40.488040Z",
     "shell.execute_reply.started": "2025-06-25T17:54:48.573416Z",
     "shell.execute_reply": "2025-06-25T18:17:40.487283Z"
    }
   },
   "outputs": [
    {
     "name": "stdout",
     "text": "Epoch 1/30\n\u001B[1m451/451\u001B[0m \u001B[32m━━━━━━━━━━━━━━━━━━━━\u001B[0m\u001B[37m\u001B[0m \u001B[1m189s\u001B[0m 407ms/step - accuracy: 0.2503 - loss: 1.7994 - val_accuracy: 0.3279 - val_loss: 1.6795\nEpoch 2/30\n\u001B[1m451/451\u001B[0m \u001B[32m━━━━━━━━━━━━━━━━━━━━\u001B[0m\u001B[37m\u001B[0m \u001B[1m41s\u001B[0m 92ms/step - accuracy: 0.3287 - loss: 1.6791 - val_accuracy: 0.4244 - val_loss: 1.4835\nEpoch 3/30\n\u001B[1m451/451\u001B[0m \u001B[32m━━━━━━━━━━━━━━━━━━━━\u001B[0m\u001B[37m\u001B[0m \u001B[1m41s\u001B[0m 91ms/step - accuracy: 0.4038 - loss: 1.5332 - val_accuracy: 0.4925 - val_loss: 1.3433\nEpoch 4/30\n\u001B[1m451/451\u001B[0m \u001B[32m━━━━━━━━━━━━━━━━━━━━\u001B[0m\u001B[37m\u001B[0m \u001B[1m41s\u001B[0m 91ms/step - accuracy: 0.4500 - loss: 1.4281 - val_accuracy: 0.5167 - val_loss: 1.2723\nEpoch 5/30\n\u001B[1m451/451\u001B[0m \u001B[32m━━━━━━━━━━━━━━━━━━━━\u001B[0m\u001B[37m\u001B[0m \u001B[1m40s\u001B[0m 90ms/step - accuracy: 0.4684 - loss: 1.3811 - val_accuracy: 0.5429 - val_loss: 1.1958\nEpoch 6/30\n\u001B[1m451/451\u001B[0m \u001B[32m━━━━━━━━━━━━━━━━━━━━\u001B[0m\u001B[37m\u001B[0m \u001B[1m41s\u001B[0m 91ms/step - accuracy: 0.4982 - loss: 1.3189 - val_accuracy: 0.5432 - val_loss: 1.1999\nEpoch 7/30\n\u001B[1m451/451\u001B[0m \u001B[32m━━━━━━━━━━━━━━━━━━━━\u001B[0m\u001B[37m\u001B[0m \u001B[1m44s\u001B[0m 97ms/step - accuracy: 0.5103 - loss: 1.2860 - val_accuracy: 0.5709 - val_loss: 1.1426\nEpoch 8/30\n\u001B[1m451/451\u001B[0m \u001B[32m━━━━━━━━━━━━━━━━━━━━\u001B[0m\u001B[37m\u001B[0m \u001B[1m42s\u001B[0m 93ms/step - accuracy: 0.5200 - loss: 1.2588 - val_accuracy: 0.5671 - val_loss: 1.1505\nEpoch 9/30\n\u001B[1m451/451\u001B[0m \u001B[32m━━━━━━━━━━━━━━━━━━━━\u001B[0m\u001B[37m\u001B[0m \u001B[1m41s\u001B[0m 90ms/step - accuracy: 0.5197 - loss: 1.2556 - val_accuracy: 0.5606 - val_loss: 1.1334\nEpoch 10/30\n\u001B[1m451/451\u001B[0m \u001B[32m━━━━━━━━━━━━━━━━━━━━\u001B[0m\u001B[37m\u001B[0m \u001B[1m41s\u001B[0m 91ms/step - accuracy: 0.5321 - loss: 1.2366 - val_accuracy: 0.5719 - val_loss: 1.1180\nEpoch 11/30\n\u001B[1m451/451\u001B[0m \u001B[32m━━━━━━━━━━━━━━━━━━━━\u001B[0m\u001B[37m\u001B[0m \u001B[1m40s\u001B[0m 89ms/step - accuracy: 0.5378 - loss: 1.2109 - val_accuracy: 0.5851 - val_loss: 1.0930\nEpoch 12/30\n\u001B[1m451/451\u001B[0m \u001B[32m━━━━━━━━━━━━━━━━━━━━\u001B[0m\u001B[37m\u001B[0m \u001B[1m41s\u001B[0m 90ms/step - accuracy: 0.5511 - loss: 1.1914 - val_accuracy: 0.5855 - val_loss: 1.0979\nEpoch 13/30\n\u001B[1m451/451\u001B[0m \u001B[32m━━━━━━━━━━━━━━━━━━━━\u001B[0m\u001B[37m\u001B[0m \u001B[1m41s\u001B[0m 90ms/step - accuracy: 0.5500 - loss: 1.1886 - val_accuracy: 0.5892 - val_loss: 1.0821\nEpoch 14/30\n\u001B[1m451/451\u001B[0m \u001B[32m━━━━━━━━━━━━━━━━━━━━\u001B[0m\u001B[37m\u001B[0m \u001B[1m41s\u001B[0m 91ms/step - accuracy: 0.5465 - loss: 1.1858 - val_accuracy: 0.5965 - val_loss: 1.0732\nEpoch 15/30\n\u001B[1m451/451\u001B[0m \u001B[32m━━━━━━━━━━━━━━━━━━━━\u001B[0m\u001B[37m\u001B[0m \u001B[1m41s\u001B[0m 92ms/step - accuracy: 0.5573 - loss: 1.1654 - val_accuracy: 0.5940 - val_loss: 1.0687\nEpoch 16/30\n\u001B[1m451/451\u001B[0m \u001B[32m━━━━━━━━━━━━━━━━━━━━\u001B[0m\u001B[37m\u001B[0m \u001B[1m41s\u001B[0m 91ms/step - accuracy: 0.5623 - loss: 1.1547 - val_accuracy: 0.6070 - val_loss: 1.0761\nEpoch 17/30\n\u001B[1m451/451\u001B[0m \u001B[32m━━━━━━━━━━━━━━━━━━━━\u001B[0m\u001B[37m\u001B[0m \u001B[1m40s\u001B[0m 89ms/step - accuracy: 0.5595 - loss: 1.1536 - val_accuracy: 0.6094 - val_loss: 1.0473\nEpoch 18/30\n\u001B[1m451/451\u001B[0m \u001B[32m━━━━━━━━━━━━━━━━━━━━\u001B[0m\u001B[37m\u001B[0m \u001B[1m40s\u001B[0m 89ms/step - accuracy: 0.5725 - loss: 1.1311 - val_accuracy: 0.6040 - val_loss: 1.0597\nEpoch 19/30\n\u001B[1m451/451\u001B[0m \u001B[32m━━━━━━━━━━━━━━━━━━━━\u001B[0m\u001B[37m\u001B[0m \u001B[1m40s\u001B[0m 89ms/step - accuracy: 0.5673 - loss: 1.1347 - val_accuracy: 0.5901 - val_loss: 1.0629\nEpoch 20/30\n\u001B[1m451/451\u001B[0m \u001B[32m━━━━━━━━━━━━━━━━━━━━\u001B[0m\u001B[37m\u001B[0m \u001B[1m41s\u001B[0m 91ms/step - accuracy: 0.5693 - loss: 1.1256 - val_accuracy: 0.6009 - val_loss: 1.0517\nEpoch 21/30\n\u001B[1m451/451\u001B[0m \u001B[32m━━━━━━━━━━━━━━━━━━━━\u001B[0m\u001B[37m\u001B[0m \u001B[1m41s\u001B[0m 91ms/step - accuracy: 0.5666 - loss: 1.1318 - val_accuracy: 0.6036 - val_loss: 1.0504\nEpoch 22/30\n\u001B[1m451/451\u001B[0m \u001B[32m━━━━━━━━━━━━━━━━━━━━\u001B[0m\u001B[37m\u001B[0m \u001B[1m40s\u001B[0m 88ms/step - accuracy: 0.5827 - loss: 1.1090 - val_accuracy: 0.6128 - val_loss: 1.0379\nEpoch 23/30\n\u001B[1m451/451\u001B[0m \u001B[32m━━━━━━━━━━━━━━━━━━━━\u001B[0m\u001B[37m\u001B[0m \u001B[1m40s\u001B[0m 88ms/step - accuracy: 0.5808 - loss: 1.1037 - val_accuracy: 0.6105 - val_loss: 1.0481\nEpoch 24/30\n\u001B[1m451/451\u001B[0m \u001B[32m━━━━━━━━━━━━━━━━━━━━\u001B[0m\u001B[37m\u001B[0m \u001B[1m40s\u001B[0m 88ms/step - accuracy: 0.5785 - loss: 1.1082 - val_accuracy: 0.6084 - val_loss: 1.0537\nEpoch 25/30\n\u001B[1m451/451\u001B[0m \u001B[32m━━━━━━━━━━━━━━━━━━━━\u001B[0m\u001B[37m\u001B[0m \u001B[1m40s\u001B[0m 88ms/step - accuracy: 0.5846 - loss: 1.0958 - val_accuracy: 0.6087 - val_loss: 1.0366\nEpoch 26/30\n\u001B[1m451/451\u001B[0m \u001B[32m━━━━━━━━━━━━━━━━━━━━\u001B[0m\u001B[37m\u001B[0m \u001B[1m40s\u001B[0m 88ms/step - accuracy: 0.5819 - loss: 1.1042 - val_accuracy: 0.6114 - val_loss: 1.0414\nEpoch 27/30\n\u001B[1m451/451\u001B[0m \u001B[32m━━━━━━━━━━━━━━━━━━━━\u001B[0m\u001B[37m\u001B[0m \u001B[1m41s\u001B[0m 90ms/step - accuracy: 0.5881 - loss: 1.0909 - val_accuracy: 0.6169 - val_loss: 1.0285\nEpoch 28/30\n\u001B[1m451/451\u001B[0m \u001B[32m━━━━━━━━━━━━━━━━━━━━\u001B[0m\u001B[37m\u001B[0m \u001B[1m41s\u001B[0m 92ms/step - accuracy: 0.5914 - loss: 1.0806 - val_accuracy: 0.6159 - val_loss: 1.0428\nEpoch 29/30\n\u001B[1m451/451\u001B[0m \u001B[32m━━━━━━━━━━━━━━━━━━━━\u001B[0m\u001B[37m\u001B[0m \u001B[1m41s\u001B[0m 91ms/step - accuracy: 0.5961 - loss: 1.0638 - val_accuracy: 0.6074 - val_loss: 1.0529\nEpoch 30/30\n\u001B[1m451/451\u001B[0m \u001B[32m━━━━━━━━━━━━━━━━━━━━\u001B[0m\u001B[37m\u001B[0m \u001B[1m40s\u001B[0m 88ms/step - accuracy: 0.5956 - loss: 1.0826 - val_accuracy: 0.6197 - val_loss: 1.0214\n",
     "output_type": "stream"
    }
   ],
   "execution_count": 45
  },
  {
   "metadata": {},
   "cell_type": "markdown",
   "source": "# Print The Model Loss & Accuracy Matrix"
  },
  {
   "cell_type": "code",
   "source": [
    "loss, accuracy = model.evaluate(validation_generator)\n",
    "print(\"Training Loss:\", loss)\n",
    "print(\"Training Accuracy:\", accuracy)"
   ],
   "metadata": {
    "trusted": true,
    "execution": {
     "iopub.status.busy": "2025-06-25T18:17:40.682807Z",
     "iopub.execute_input": "2025-06-25T18:17:40.683291Z",
     "iopub.status.idle": "2025-06-25T18:17:47.222884Z",
     "shell.execute_reply.started": "2025-06-25T18:17:40.683269Z",
     "shell.execute_reply": "2025-06-25T18:17:47.222298Z"
    }
   },
   "outputs": [
    {
     "name": "stdout",
     "text": "\u001B[1m111/111\u001B[0m \u001B[32m━━━━━━━━━━━━━━━━━━━━\u001B[0m\u001B[37m\u001B[0m \u001B[1m6s\u001B[0m 57ms/step - accuracy: 0.6254 - loss: 1.0141\nTraining Loss: 1.0214083194732666\nTraining Accuracy: 0.6197282671928406\n",
     "output_type": "stream"
    }
   ],
   "execution_count": 46
  },
  {
   "metadata": {},
   "cell_type": "markdown",
   "source": "# Save The Trained Model In Kaggle Working Directory"
  },
  {
   "cell_type": "code",
   "source": "model.save(\"/kaggle/working/facial_emotion_recognition.h5\")",
   "metadata": {
    "trusted": true,
    "execution": {
     "iopub.status.busy": "2025-06-25T18:18:39.779635Z",
     "iopub.execute_input": "2025-06-25T18:18:39.779901Z",
     "iopub.status.idle": "2025-06-25T18:18:39.901371Z",
     "shell.execute_reply.started": "2025-06-25T18:18:39.779885Z",
     "shell.execute_reply": "2025-06-25T18:18:39.900820Z"
    }
   },
   "outputs": [],
   "execution_count": 47
  },
  {
   "metadata": {},
   "cell_type": "markdown",
   "source": "# Download The Saved Model From Kaggle"
  },
  {
   "cell_type": "code",
   "source": "from IPython.display import FileLink\n\nFileLink(\"facial_emotion_recognition.h5\") ",
   "metadata": {
    "trusted": true,
    "execution": {
     "iopub.status.busy": "2025-06-25T18:19:01.856258Z",
     "iopub.execute_input": "2025-06-25T18:19:01.856733Z",
     "iopub.status.idle": "2025-06-25T18:19:01.862108Z",
     "shell.execute_reply.started": "2025-06-25T18:19:01.856711Z",
     "shell.execute_reply": "2025-06-25T18:19:01.861207Z"
    }
   },
   "outputs": [
    {
     "execution_count": 48,
     "output_type": "execute_result",
     "data": {
      "text/plain": "/kaggle/working/facial_emotion_recognition.h5",
      "text/html": "<a href='facial_emotion_recognition.h5' target='_blank'>facial_emotion_recognition.h5</a><br>"
     },
     "metadata": {}
    }
   ],
   "execution_count": 48
  }
 ]
}
